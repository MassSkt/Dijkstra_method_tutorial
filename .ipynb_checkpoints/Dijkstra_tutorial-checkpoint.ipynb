{
 "cells": [
  {
   "cell_type": "code",
   "execution_count": 48,
   "metadata": {
    "collapsed": true
   },
   "outputs": [],
   "source": [
    "import sys\n",
    "import re\n",
    "import heapq\n",
    "import numpy as np\n",
    "import networkx as nx\n",
    "import matplotlib.pyplot as plt"
   ]
  },
  {
   "cell_type": "markdown",
   "metadata": {},
   "source": [
    "# functions"
   ]
  },
  {
   "cell_type": "code",
   "execution_count": 85,
   "metadata": {
    "collapsed": false
   },
   "outputs": [],
   "source": [
    "\n",
    "def initialize_graph(edge_list):\n",
    "    graph = {}\n",
    "    # read edge info and set graph {Node a: {connected node1: weight, connected node2 : weight }, Node b: ....}\n",
    "    for edge_inf in edge_list:\n",
    "        node1 = edge_inf[0]\n",
    "        node2 = edge_inf[1]\n",
    "        cost = edge_inf[2]\n",
    "        graph = set_new_node(graph, node1, node2)\n",
    "        graph[node1][node2] = cost\n",
    "        graph[node2][node1] = cost\n",
    "    return graph\n",
    "\n",
    "\n",
    "def set_new_node(graph, node1, node2):\n",
    "    if not node1 in graph.keys():\n",
    "        graph[node1] = {}\n",
    "    if not node2 in graph.keys():\n",
    "        graph[node2] = {}\n",
    "    return graph\n",
    "\n",
    "# Dijkstra method for minimum cost  path\n",
    "def solve_by_dijkstra(graph):\n",
    "    # Minimum cost of every node from Start\n",
    "    min_dist_dict = {}\n",
    "    # previous node that reach to a certain node with minimum cost\n",
    "    prev_node_dict = {}\n",
    "    q = []\n",
    "    heapq.heappush(q, (0, 'START','START'))\n",
    "\n",
    "    prev_node = ''\n",
    "\n",
    "    while True:\n",
    "        dist, node,prev_node = heapq.heappop(q)\n",
    "        min_dist_dict[node] = dist\n",
    "        prev_node_dict[node] = prev_node\n",
    "        # if minimum cost to GOAL is determined, finish exploration\n",
    "        if node == 'GOAL': \n",
    "            return min_dist_dict, prev_node_dict\n",
    "        # Calculate cost from the current node whose min cost is determined (finished-node)to movable node and add them to queue(q)\n",
    "        calc_min_dist_and_put(graph, q, node, min_dist_dict, prev_node_dict)\n",
    "\n",
    "def calc_min_dist_and_put(graph, q, departure_node, min_dist_dict, prev_node_dict):\n",
    "    # iterate in movable nodes \n",
    "    for arrival_node in graph[departure_node].keys():\n",
    "        # calc cost from the finished-node to movable node\n",
    "        tmp_d = min_dist_dict[departure_node] + graph[departure_node][arrival_node]\n",
    "        # check if the minimum cost of the arrival_node (node which we move to)is already calculated\n",
    "        if arrival_node in min_dist_dict.keys():\n",
    "            # Update minimum cost if it's smaller than previously calculated min-cost\n",
    "            if tmp_d < min_dist_dict[arrival_node]:\n",
    "                min_dist_dict[arrival_node] = tmp_d\n",
    "                heapq.heappush(q, (min_dist_dict[arrival_node], arrival_node,departure_node))\n",
    "        else:\n",
    "            min_dist_dict[arrival_node] = tmp_d\n",
    "            heapq.heappush(q, (min_dist_dict[arrival_node], arrival_node,departure_node))\n",
    "    \n",
    "\n",
    "def show_graph(edge_list):\n",
    "    G = nx.Graph()\n",
    "\n",
    "    weighs_list=[]\n",
    "    for edge_info in edge_list:\n",
    "        G.add_edge(edge_info[0],edge_info[1],weight=edge_info[2])\n",
    "        weighs_list.append(edge_info[2])\n",
    "\n",
    "    pos = nx.spring_layout(G)  # positions for all nodes\n",
    "\n",
    "    # nodes\n",
    "    nx.draw_networkx_nodes(G, pos, node_size=700)\n",
    "\n",
    "    # edges\n",
    "\n",
    "    for u,v,d in G.edges(data=True):\n",
    "        nx.draw_networkx_edges(G,pos,edgelist=[(u,v)],alpha=d['weight']/np.max(weighs_list),width=3)\n",
    "\n",
    "    # labels\n",
    "    nx.draw_networkx_labels(G, pos, font_size=20, font_family='sans-serif')\n",
    "\n",
    "    plt.axis('off')\n",
    "    plt.show()\n",
    "    \n",
    "def main():\n",
    "    graph = initialize_graph(edge_list)\n",
    "    min_dist_dict, prev_node_dict = solve_by_dijkstra(graph)\n",
    "\n",
    "    print('Route : GOAL ',end='')\n",
    "    node = 'GOAL'\n",
    "    while True:\n",
    "        if node == 'START':\n",
    "            print()\n",
    "            break\n",
    "        print(' ← ' + prev_node_dict[node],end='')\n",
    "        node = prev_node_dict[node]\n",
    "    print('Min Cost : ' +  str(min_dist_dict['GOAL']))\n"
   ]
  },
  {
   "cell_type": "code",
   "execution_count": 86,
   "metadata": {
    "collapsed": false
   },
   "outputs": [
    {
     "data": {
      "image/png": "[encoded data removed]",
      "text/plain": [
       "<matplotlib.figure.Figure at 0x180c71b9c18>"
      ]
     },
     "metadata": {},
     "output_type": "display_data"
    }
   ],
   "source": [
    "# all edge weights list definition (global)\n",
    "\n",
    "edge_list=[\n",
    "    ['START','a',4],\n",
    "    ['START','b',3],\n",
    "    ['START','c',9],\n",
    "    ['a','b',9],\n",
    "    ['b','c',2],\n",
    "    ['b','GOAL',5],\n",
    "    ['c','GOAL',1]\n",
    "]\n",
    "\n",
    "show_graph(edge_list)"
   ]
  },
  {
   "cell_type": "code",
   "execution_count": 87,
   "metadata": {
    "collapsed": false
   },
   "outputs": [
    {
     "name": "stdout",
     "output_type": "stream",
     "text": [
      "Route : GOAL  ← c ← b ← START\n",
      "Min Cost : 6\n"
     ]
    }
   ],
   "source": [
    "if __name__ == '__main__':\n",
    "    main()\n",
    "    #sys.exit(0)"
   ]
  },
  {
   "cell_type": "code",
   "execution_count": null,
   "metadata": {
    "collapsed": true
   },
   "outputs": [],
   "source": []
  }
 ],
 "metadata": {
  "anaconda-cloud": {},
  "kernelspec": {
   "display_name": "Python [conda env:Anaconda3]",
   "language": "python",
   "name": "conda-env-Anaconda3-py"
  },
  "language_info": {
   "codemirror_mode": {
    "name": "ipython",
    "version": 3
   },
   "file_extension": ".py",
   "mimetype": "text/x-python",
   "name": "python",
   "nbconvert_exporter": "python",
   "pygments_lexer": "ipython3",
   "version": "3.5.2"
  }
 },
 "nbformat": 4,
 "nbformat_minor": 2
}
